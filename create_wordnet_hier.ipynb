{
 "cells": [
  {
   "cell_type": "code",
   "execution_count": 1,
   "metadata": {},
   "outputs": [],
   "source": [
    "import re\n",
    "import networkx as nx\n",
    "import matplotlib.pyplot as plt\n",
    "import pandas as pd\n",
    "from nltk.corpus import wordnet as wn\n",
    "from utils.wordnet_embeddings import closure_graph_bottomup\n",
    "import itertools\n",
    "import logging\n",
    "import operator\n",
    "import numpy as np\n",
    "import glob\n",
    "from nltk.corpus import wordnet as wn\n",
    "from nltk.stem import WordNetLemmatizer"
   ]
  },
  {
   "cell_type": "code",
   "execution_count": 2,
   "metadata": {},
   "outputs": [],
   "source": [
    "def create_graph(dict_synset, target_file):\n",
    "    # merge all concepts into one list\n",
    "    concept_synet = itertools.chain(*dict_synsets.values())\n",
    "    # create graph\n",
    "    g_bottomup = closure_graph_bottomup(concept_synet,\n",
    "                      lambda s: s.hypernyms())\n",
    "\n",
    "    # check for missing links in graph and merge all into root node\n",
    "    missing_nodes = [node for node, in_degree in g_bottomup.in_degree() if in_degree == 0]\n",
    "    g_bottomup.add_node('root')\n",
    "    for i in missing_nodes:\n",
    "        g_bottomup.add_edge( 'root', i)\n",
    "\n",
    "    #missing_nodes = [node for node, in_degree in g_bottomup.in_degree() if in_degree == 0]\n",
    "    nx.write_edgelist(g_bottomup , target_file,  delimiter=',', data=False, encoding='utf-8')\n",
    "    df = pd.read_csv(target_file, names=['parent', 'child'])\n",
    "    df.to_csv(target_file, index=False)\n",
    "    \n",
    "\n",
    "\n",
    "\n",
    "\n",
    "    \n",
    "    "
   ]
  },
  {
   "cell_type": "code",
   "execution_count": null,
   "metadata": {},
   "outputs": [],
   "source": []
  },
  {
   "cell_type": "code",
   "execution_count": 3,
   "metadata": {},
   "outputs": [],
   "source": [
    "### retrieve all words from all datasets\n",
    "data_files = glob.glob(\"datasets/*.csv\")\n",
    "#data_files = [\"datasets/NOUN_mc-30.csv\"]\n",
    "word_list = []\n",
    "column_names = ['word1', 'word2', 'sim']\n",
    "for file in data_files:\n",
    "    df = pd.read_csv(file) #, sep=';', names = column_names) #\n",
    "    word_list.append(df['word1'].unique())\n",
    "    word_list.append(df['word2'].unique())\n",
    "    \n",
    "word_list = list(set([item for sublist in word_list for item in sublist]))\n",
    "dict_synsets = dict()\n",
    "# load the benchmark datasets\n",
    "# retrieve wordnet hierarchy for all words\n",
    "wn_lemma = WordNetLemmatizer()\n",
    "\n",
    "target_file = './Graph/'\n",
    "for c in word_list:\n",
    "    ls= []\n",
    "    count = 0\n",
    "    word1 = wn_lemma.lemmatize(c)\n",
    "    for result in wn.synsets(word1 ): # retrieve all concepts related to this word\n",
    "        ls.append(result)\n",
    "    if ls != []:\n",
    "        dict_synsets[c] = ls\n",
    "        \n",
    "create_graph (dict_synsets, target_file+'graph_wordsimilarity.csv')"
   ]
  },
  {
   "cell_type": "code",
   "execution_count": null,
   "metadata": {},
   "outputs": [],
   "source": []
  },
  {
   "cell_type": "code",
   "execution_count": null,
   "metadata": {},
   "outputs": [],
   "source": []
  }
 ],
 "metadata": {
  "kernelspec": {
   "display_name": "Python 3",
   "language": "python",
   "name": "python3"
  },
  "language_info": {
   "codemirror_mode": {
    "name": "ipython",
    "version": 3
   },
   "file_extension": ".py",
   "mimetype": "text/x-python",
   "name": "python",
   "nbconvert_exporter": "python",
   "pygments_lexer": "ipython3",
   "version": "3.7.6"
  }
 },
 "nbformat": 4,
 "nbformat_minor": 4
}
